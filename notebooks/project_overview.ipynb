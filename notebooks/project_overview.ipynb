{
 "cells": [
  {
   "cell_type": "markdown",
   "metadata": {},
   "source": [
    "# 项目概述\n",
    "\n",
    "本项目实现并比较了各种经典机器学习模型，使用scikit-learn的数字数据集进行数字分类。目标是理解不同算法的性能特征，包括逻辑回归、线性SVM、K近邻、决策树、随机森林、SGD分类器和感知机。"
   ]
  },
  {
   "cell_type": "markdown",
   "metadata": {},
   "source": [
    "## 目标\n",
    "\n",
    "1. 使用适当的超参数调优实现每个模型\n",
    "2. 使用标准指标评估模型性能\n",
    "3. 基于准确率、F1分数和训练时间比较模型\n",
    "4. 可视化结果以便更好地理解"
   ]
  },
  {
   "cell_type": "markdown",
   "metadata": {},
   "source": [
    "## 方法\n",
    "\n",
    "对于每个模型，我们将：\n",
    "\n",
    "1. 使用提供的API加载数字数据集\n",
    "2. 定义具有指定超参数的模型\n",
    "3. 训练模型并记录训练时间\n",
    "4. 使用评估API评估模型\n",
    "5. 可视化结果，包括混淆矩阵和超参数调优\n",
    "6. 将指标和图表保存到指定目录"
   ]
  },
  {
   "cell_type": "markdown",
   "metadata": {},
   "source": [
    "## 要实现的模型\n",
    "\n",
    "- 逻辑回归\n",
    "- 线性SVM\n",
    "- K近邻\n",
    "- 决策树\n",
    "- 随机森林\n",
    "- SGD分类器\n",
    "- 感知机"
   ]
  },
  {
   "cell_type": "markdown",
   "metadata": {},
   "source": [
    "## 评估指标\n",
    "\n",
    "我们将使用以下指标进行比较：\n",
    "\n",
    "- 准确率\n",
    "- 宏平均F1分数\n",
    "- 加权F1分数\n",
    "- 训练时间"
   ]
  },
  {
   "cell_type": "markdown",
   "metadata": {},
   "source": [
    "## 目录结构\n",
    "\n",
    "- `src/`: 包含数据加载、评估和可视化的实用函数\n",
    "- `notebooks/`: 包含每个模型的实现笔记本\n",
    "- `results/figures/`: 包含生成的图表\n",
    "- `results/metrics/`: 包含JSON格式的指标"
   ]
  }
 ],
 "metadata": {
  "kernelspec": {
   "display_name": "Python 3",
   "language": "python",
   "name": "python3"
  },
  "language_info": {
   "codemirror_mode": {
    "name": "ipython",
    "version": 3
   },
   "file_extension": ".py",
   "mimetype": "text/x-python",
   "name": "python",
   "nbconvert_exporter": "python",
   "pygments_lexer": "ipython3",
   "version": "3.8.5"
  }
 },
 "nbformat": 4,
 "nbformat_minor": 4
}
