{
  "cells": [
    {
      "cell_type": "markdown",
      "metadata": {},
      "source": [
        "## [DO NOT EDIT] Header\n",
        "\n",
        "本笔记本实现了用于数字分类的线性SVM模型，包含超参数调优。\n",
        "所有代码必须遵循实现指南中定义的项目结构和命名约定。"
      ]
    },
    {
      "cell_type": "code",
      "execution_count": 1,
      "metadata": {},
      "outputs": [
        {
          "name": "stdout",
          "output_type": "stream",
          "text": [
            "✓ 环境设置完成\n"
          ]
        }
      ],
      "source": [
        "# Import required libraries\n",
        "import sys\n",
        "import os\n",
        "import json\n",
        "import time\n",
        "import numpy as np\n",
        "import matplotlib.pyplot as plt\n",
        "import seaborn as sns\n",
        "from math import isclose, sqrt\n",
        "from IPython.display import display\n",
        "\n",
        "# 魔法命令\n",
        "%matplotlib inline\n",
        "\n",
        "# 路径设置 - 导入此模块会自动设置Python路径\n",
        "import path_setup\n",
        "\n",
        "# 直接导入项目模块（IDE可以正确追踪）\n",
        "from load_data import load_mnist_dataset\n",
        "from evaluate import eval_classification, eval_classification_with_roc\n",
        "from visualize import plot_confusion_matrix, plot_bar\n",
        "\n",
        "# Constants\n",
        "RANDOM_STATE = 42\n",
        "NOTEBOOK_BASENAME = \"part2_linear_svm\"\n",
        "\n",
        "# Ensure output directories exist\n",
        "os.makedirs(\"../results/figures\", exist_ok=True)\n",
        "os.makedirs(\"../results/metrics\", exist_ok=True)\n",
        "\n",
        "print(\"✓ 环境设置完成\")\n"
      ]
    },
    {
      "cell_type": "markdown",
      "metadata": {},
      "source": [
        "## Dataset Loading\n",
        "\n",
        "使用提供的API函数加载数字数据集。"
      ]
    },
    {
      "cell_type": "code",
      "execution_count": 2,
      "metadata": {},
      "outputs": [
        {
          "name": "stdout",
          "output_type": "stream",
          "text": [
            "正在加载 MNIST 数据集...\n",
            "训练集图像形状: (60000, 28, 28)\n",
            "训练集标签形状: (60000,)\n",
            "测试集图像形状: (10000, 28, 28)\n",
            "测试集标签形状: (10000,)\n",
            "MNIST 数据集加载完成！\n",
            "Training set shape: (60000, 784)\n",
            "Test set shape: (10000, 784)\n",
            "Number of classes: 10\n"
          ]
        },
        {
          "data": {
            "image/png": "[encoded data removed]",
            "text/plain": [
              "<Figure size 1600x240 with 8 Axes>"
            ]
          },
          "metadata": {},
          "output_type": "display_data"
        }
      ],
      "source": [
        "# Load the mnist dataset\n",
        "X_train, X_test, y_train, y_test, target_names = load_mnist_dataset()\n",
        "print(f\"Training set shape: {X_train.shape}\")\n",
        "print(f\"Test set shape: {X_test.shape}\")\n",
        "print(f\"Number of classes: {len(target_names)}\")\n",
        "\n",
        "# 显示随机样本图像\n",
        "n_show = 8\n",
        "rng = np.random.RandomState(42)\n",
        "idx = rng.choice(len(X_train), size=n_show, replace=False)\n",
        "\n",
        "# 尝试推断方形尺寸\n",
        "n_features = X_train.shape[1]\n",
        "side = int(round(sqrt(n_features)))\n",
        "is_square = (side * side == n_features)\n",
        "\n",
        "fig, axes = plt.subplots(1, n_show, figsize=(2.0 * n_show, 2.4))\n",
        "for ax, i in zip(axes, idx):\n",
        "    ax.set_axis_off()\n",
        "    if is_square:\n",
        "        img = X_train[i].reshape(side, side)\n",
        "        ax.imshow(img, cmap='gray')\n",
        "        ax.set_title(f\"label: {y_train[i]}\")\n",
        "    else:\n",
        "        ax.text(0.5, 0.5, \"非图像特征，无法还原为方形\", ha='center', va='center')\n",
        "plt.suptitle(\"Random samples\")\n",
        "plt.tight_layout()\n",
        "plt.show()"
      ]
    },
    {
      "cell_type": "markdown",
      "metadata": {},
      "source": [
        "## Model Definition (Default Only)\n",
        "\n",
        "仅定义一个模型实例，使用库默认参数。"
      ]
    },
    {
      "cell_type": "code",
      "execution_count": 3,
      "metadata": {},
      "outputs": [],
      "source": [
        "# Define default model with library defaults\n",
        "from sklearn.svm import LinearSVC\n",
        "default_model = LinearSVC(\n",
        "    max_iter=2000,\n",
        "    random_state=RANDOM_STATE\n",
        ")"
      ]
    },
    {
      "cell_type": "markdown",
      "metadata": {},
      "source": [
        "## Training (Default Model)\n",
        "\n",
        "对默认参数模型执行训练，记录训练用时。"
      ]
    },
    {
      "cell_type": "code",
      "execution_count": 4,
      "metadata": {},
      "outputs": [
        {
          "name": "stdout",
          "output_type": "stream",
          "text": [
            "Default model training time: 2602.0644 seconds\n"
          ]
        },
        {
          "name": "stderr",
          "output_type": "stream",
          "text": [
            "c:\\Users\\WHY\\Projects\\Personal\\DL4CV\\.venv\\Lib\\site-packages\\sklearn\\svm\\_base.py:1250: ConvergenceWarning: Liblinear failed to converge, increase the number of iterations.\n",
            "  warnings.warn(\n"
          ]
        }
      ],
      "source": [
        "# Train the default model\n",
        "start_time = time.time()\n",
        "default_model.fit(X_train, y_train)\n",
        "default_training_time = time.time() - start_time\n",
        "print(f\"Default model training time: {default_training_time:.4f} seconds\")"
      ]
    },
    {
      "cell_type": "markdown",
      "metadata": {},
      "source": [
        "## Evaluation (Default Model)\n",
        "\n",
        "评估默认模型性能。"
      ]
    },
    {
      "cell_type": "code",
      "execution_count": 8,
      "metadata": {},
      "outputs": [
        {
          "name": "stdout",
          "output_type": "stream",
          "text": [
            "==================================================\n",
            "== Evaluation Metrics ==\n",
            "==================================================\n",
            "accuracy                 : 0.9158\n",
            "precision_macro          : 0.9146\n",
            "recall_macro             : 0.9146\n",
            "f1_macro                 : 0.9145\n",
            "weighted_f1              : 0.9155\n",
            "roc_auc_macro_ovr        : 0.9839\n",
            "==================================================\n",
            "== Classification Report ==\n",
            "==================================================\n",
            "              precision    recall  f1-score   support\n",
            "\n",
            "           0       0.95      0.98      0.96       980\n",
            "           1       0.95      0.98      0.97      1135\n",
            "           2       0.93      0.88      0.90      1032\n",
            "           3       0.89      0.91      0.90      1010\n",
            "           4       0.92      0.93      0.92       982\n",
            "           5       0.88      0.86      0.87       892\n",
            "           6       0.93      0.95      0.94       958\n",
            "           7       0.92      0.92      0.92      1028\n",
            "           8       0.87      0.86      0.87       974\n",
            "           9       0.90      0.89      0.89      1009\n",
            "\n",
            "    accuracy                           0.92     10000\n",
            "   macro avg       0.91      0.91      0.91     10000\n",
            "weighted avg       0.92      0.92      0.92     10000\n",
            "\n",
            "ROC-AUC (Macro OvR): 0.9839\n"
          ]
        }
      ],
      "source": [
        "# Evaluate the default model\n",
        "default_metrics = eval_classification(default_model, X_test, y_test, target_names)\n",
        "\n",
        "# Enhanced evaluation with ROC-AUC for default model\n",
        "enhanced_metrics = eval_classification_with_roc(\n",
        "    default_model, X_test, y_test, target_names, print_report=True\n",
        ")\n",
        "\n",
        "# 显示 ROC-AUC 分数\n",
        "if 'roc_auc_macro_ovr' in enhanced_metrics:\n",
        "    print(f\"ROC-AUC (Macro OvR): {enhanced_metrics['roc_auc_macro_ovr']:.4f}\")"
      ]
    },
    {
      "cell_type": "markdown",
      "metadata": {},
      "source": [
        "## Visualization (Default Model)\n",
        "\n",
        "可视化默认模型结果。"
      ]
    },
    {
      "cell_type": "code",
      "execution_count": 9,
      "metadata": {},
      "outputs": [
        {
          "name": "stdout",
          "output_type": "stream",
          "text": [
            "Default model confusion matrix saved to ../results/figures/part2_linear_svm__cm_default.png\n"
          ]
        },
        {
          "data": {
            "image/png": "[encoded data removed]",
            "text/plain": [
              "<Figure size 800x600 with 2 Axes>"
            ]
          },
          "metadata": {},
          "output_type": "display_data"
        }
      ],
      "source": [
        "# Plot confusion matrix for default model\n",
        "out_png_path = f\"../results/figures/{NOTEBOOK_BASENAME}__cm_default.png\"\n",
        "plot_confusion_matrix(default_metrics['confusion_matrix'], target_names, out_png_path)\n",
        "print(f\"Default model confusion matrix saved to {out_png_path}\")"
      ]
    },
    {
      "cell_type": "markdown",
      "metadata": {},
      "source": [
        "## Fill Hyperparams (Tuning Spec)\n",
        "\n",
        "定义调参网格。"
      ]
    },
    {
      "cell_type": "code",
      "execution_count": null,
      "metadata": {},
      "outputs": [],
      "source": [
        "# Define hyperparameter grid for Linear SVM\n",
        "from sklearn.model_selection import GridSearchCV\n",
        "from sklearn.svm import LinearSVC\n",
        "\n",
        "# Define base model with stability parameters\n",
        "base_model = LinearSVC(\n",
        "    max_iter=2000,\n",
        "    random_state=RANDOM_STATE\n",
        ")\n",
        "\n",
        "# Define parameter grid (strictly follow Canvas Chapter 4)\n",
        "param_grid = {\n",
        "    'C': [0.01, 0.1, 1, 10]\n",
        "}\n",
        "\n",
        "# Create GridSearchCV object\n",
        "gs = GridSearchCV(\n",
        "    estimator=base_model,\n",
        "    param_grid=param_grid,\n",
        "    scoring='accuracy',\n",
        "    cv=5,\n",
        "    n_jobs=-1,\n",
        "    verbose=1,\n",
        "    return_train_score=True\n",
        ")\n",
        "\n",
        "# Execute grid search\n",
        "gs.fit(X_train, y_train)\n",
        "\n",
        "# Print best parameters and CV score\n",
        "print(\"Best params:\", gs.best_params_)\n",
        "print(\"Best CV score (accuracy):\", gs.best_score_)\n",
        "\n",
        "# Get best model and evaluate on test set\n",
        "best_model = gs.best_estimator_\n",
        "test_acc = best_model.score(X_test, y_test)\n",
        "print(\"Test accuracy with best params:\", test_acc)\n",
        "\n",
        "# Save variables for later use\n",
        "model = best_model\n",
        "best_params = gs.best_params_\n",
        "best_training_time = gs.cv_results_['mean_fit_time'][gs.best_index_]"
      ]
    },
    {
      "cell_type": "markdown",
      "metadata": {},
      "source": [
        "## Training (Tuned Model)\n",
        "\n",
        "使用最佳参数实例化第二个模型对象并训练，记录用时。"
      ]
    },
    {
      "cell_type": "code",
      "execution_count": null,
      "metadata": {},
      "outputs": [
        {
          "name": "stdout",
          "output_type": "stream",
          "text": [
            "Best model trained with hyperparameters: {'C': 0.1}\n",
            "Training time: 0.1030 seconds\n"
          ]
        }
      ],
      "source": [
        "# Train the best model (already done during grid search)\n",
        "print(f\"Best model trained with hyperparameters: {best_params}\")\n",
        "print(f\"Training time: {best_training_time:.4f} seconds\")"
      ]
    },
    {
      "cell_type": "markdown",
      "metadata": {},
      "source": [
        "## Evaluation (Tuned Model)\n",
        "\n",
        "评估调参后模型性能。"
      ]
    },
    {
      "cell_type": "code",
      "execution_count": null,
      "metadata": {},
      "outputs": [],
      "source": [
        "# Evaluate the best model\n",
        "final_metrics = eval_classification(best_model, X_test, y_test, target_names)\n",
        "\n",
        "# Enhanced evaluation with ROC-AUC for best model\n",
        "enhanced_metrics = eval_classification_with_roc(\n",
        "    best_model, X_test, y_test, target_names, print_report=True\n",
        ")\n",
        "\n",
        "# 显示 ROC-AUC 分数\n",
        "if 'roc_auc_macro_ovr' in enhanced_metrics:\n",
        "    print(f\"ROC-AUC (Macro OvR): {enhanced_metrics['roc_auc_macro_ovr']:.4f}\")"
      ]
    },
    {
      "cell_type": "markdown",
      "metadata": {},
      "source": [
        "## Visualization (Tuned Model + Param Curves)\n",
        "\n",
        "可视化调参后模型结果和性能曲线。"
      ]
    },
    {
      "cell_type": "code",
      "execution_count": null,
      "metadata": {},
      "outputs": [],
      "source": [
        "# ① Plot confusion matrix for tuned model\n",
        "cm = final_metrics['confusion_matrix']\n",
        "out_png_path = f\"../results/figures/{NOTEBOOK_BASENAME}__cm_tuned.png\"\n",
        "plot_confusion_matrix(cm, target_names, out_png_path)\n",
        "print(f\"Tuned model confusion matrix saved to {out_png_path}\")\n",
        "\n",
        "# ② Plot parameter performance curves\n",
        "cv_results = gs.cv_results_\n",
        "params_list = cv_results[\"params\"]\n",
        "mean_test = cv_results[\"mean_test_score\"]\n",
        "\n",
        "# Extract data for C parameter\n",
        "C_values = []\n",
        "C_scores = []\n",
        "for i, params in enumerate(params_list):\n",
        "    C_values.append(params['C'])\n",
        "    C_scores.append(mean_test[i])\n",
        "\n",
        "# Plot accuracy vs C\n",
        "fig, ax = plt.subplots(figsize=(8, 6))\n",
        "ax.plot(C_values, C_scores, marker='o', linewidth=2, markersize=8)\n",
        "ax.set_xscale('log')\n",
        "ax.set_xlabel('C', fontsize=12)\n",
        "ax.set_ylabel('Cross-Validation Accuracy', fontsize=12)\n",
        "ax.set_title('Linear SVM: Accuracy vs C', fontsize=14)\n",
        "ax.grid(True, alpha=0.3)\n",
        "plt.tight_layout()\n",
        "out_png_path = f\"../results/figures/{NOTEBOOK_BASENAME}__acc_vs_C.png\"\n",
        "plt.savefig(out_png_path, dpi=100, bbox_inches='tight')\n",
        "plt.show()\n",
        "print(f\"Accuracy vs C plot saved to {out_png_path}\")"
      ]
    },
    {
      "cell_type": "markdown",
      "metadata": {},
      "source": [
        "## Persist Metrics\n",
        "\n",
        "将指标保存到指定的JSON文件。"
      ]
    },
    {
      "cell_type": "code",
      "execution_count": null,
      "metadata": {},
      "outputs": [],
      "source": [
        "# Create metrics dictionary\n",
        "metrics_dict = {\n",
        "    \"model_name\": \"Linear SVM\",\n",
        "    \"best_hyperparams\": best_params,\n",
        "    \"accuracy\": final_metrics['accuracy'],\n",
        "    \"macro_f1\": final_metrics['macro_f1'],\n",
        "    \"weighted_f1\": final_metrics['weighted_f1'],\n",
        "    \"train_time_sec\": best_training_time,\n",
        "    \"notes\": f\"Linear SVM with C={best_params['C']} achieved {final_metrics['accuracy']:.4f} accuracy\"\n",
        "}\n",
        "\n",
        "# Save metrics to JSON file\n",
        "metrics_path = f\"../results/metrics/{NOTEBOOK_BASENAME}__metrics.json\"\n",
        "with open(metrics_path, 'w', encoding='utf-8') as f:\n",
        "    json.dump(metrics_dict, f, indent=2)\n",
        "\n",
        "print(f\"Metrics saved to {metrics_path}\")\n",
        "print(f\"Final metrics: {metrics_dict}\")"
      ]
    },
    {
      "cell_type": "markdown",
      "metadata": {},
      "source": [
        "## Conclusion (Template)"
      ]
    },
    {
      "cell_type": "markdown",
      "metadata": {},
      "source": [
        "使用 C=0.1 的线性 SVM 达到了最佳性能，准确率为 0.9694。\n",
        "本模型对 C 参数敏感，适中的正则化强度在该数据集上效果更好。\n"
      ]
    }
  ],
  "metadata": {
    "kernelspec": {
      "display_name": "DL4CV",
      "language": "python",
      "name": "python3"
    },
    "language_info": {
      "codemirror_mode": {
        "name": "ipython",
        "version": 3
      },
      "file_extension": ".py",
      "mimetype": "text/x-python",
      "name": "python",
      "nbconvert_exporter": "python",
      "pygments_lexer": "ipython3",
      "version": "3.13.7"
    }
  },
  "nbformat": 4,
  "nbformat_minor": 4
}
